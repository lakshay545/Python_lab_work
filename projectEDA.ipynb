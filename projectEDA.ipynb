{
 "cells": [
  {
   "cell_type": "markdown",
   "id": "550e7266",
   "metadata": {},
   "source": [
    "# Titanic Dataset Exploratory Data Analysis (EDA) Project\n",
    "\n",
    "## Project Description\n",
    "\n",
    "In this project, we analyze the famous **Titanic dataset** (`train.csv`) to understand why some passengers survived and others did not.  \n",
    "\n",
    "We do the following steps:\n",
    "\n",
    "1. **Explore the data** – check rows, columns, missing values, and basic statistics.  \n",
    "2. **Study features** – see how **gender, passenger class, age, fare, and family size** affect survival.  \n",
    "3. **Clean the data** – fill missing values, convert text columns to numbers, and make new features like age groups, fare groups, and family size.  \n",
    "4. **Visualize the data** – make charts to clearly show survival patterns.  \n",
    "5. **Summarize insights** – explain which factors helped passengers survive more.  \n",
    "6. **Optional step for ML** – prepare numeric features and target variable for machine learning if needed.\n",
    "\n",
    "This project shows how to **explore, clean, analyze, and visualize a dataset** using **pandas and matplotlib**. It is simple, safe, and easy to follow for beginners.\n"
   ]
  },
  {
   "cell_type": "markdown",
   "id": "cfdf11b3",
   "metadata": {},
   "source": [
    "## Dataset Overview\n",
    "\n",
    "The Titanic dataset (`train.csv`) contains information about passengers on the Titanic ship. It has **891 rows (passengers)** and **12 columns (features)**. Some important columns are:\n",
    "\n",
    "- **PassengerId** – unique ID of each passenger  \n",
    "- **Survived** – whether the passenger survived (0 = No, 1 = Yes)  \n",
    "- **Pclass** – passenger class (1 = 1st, 2 = 2nd, 3 = 3rd)  \n",
    "- **Name** – name of the passenger  \n",
    "- **Sex** – gender of the passenger  \n",
    "- **Age** – age of the passenger  \n",
    "- **SibSp** – number of siblings or spouses aboard  \n",
    "- **Parch** – number of parents or children aboard  \n",
    "- **Ticket** – ticket number  \n",
    "- **Fare** – ticket price  \n",
    "- **Cabin** – cabin number (many missing values)  \n",
    "- **Embarked** – port of embarkation (C = Cherbourg, Q = Queenstown, S = Southampton)  \n",
    "\n",
    "This dataset is used to **study patterns in survival** and to find which features were important for passengers’ survival.\n"
   ]
  },
  {
   "cell_type": "code",
   "execution_count": 1,
   "id": "61cfb873",
   "metadata": {},
   "outputs": [],
   "source": [
    "# Project 3 — Exploratory Data Analysis (EDA) on Titanic dataset\n",
    "### Objective: Perform a complete EDA to understand data structure, find patterns, detect outliers, and produce 3–5 concise insights. Dataset: Kaggle Titanic `train.csv`.\n",
    " \n"
   ]
  },
  {
   "cell_type": "code",
   "execution_count": 2,
   "id": "15569c33",
   "metadata": {},
   "outputs": [
    {
     "data": {
      "text/html": [
       "<div>\n",
       "<style scoped>\n",
       "    .dataframe tbody tr th:only-of-type {\n",
       "        vertical-align: middle;\n",
       "    }\n",
       "\n",
       "    .dataframe tbody tr th {\n",
       "        vertical-align: top;\n",
       "    }\n",
       "\n",
       "    .dataframe thead th {\n",
       "        text-align: right;\n",
       "    }\n",
       "</style>\n",
       "<table border=\"1\" class=\"dataframe\">\n",
       "  <thead>\n",
       "    <tr style=\"text-align: right;\">\n",
       "      <th></th>\n",
       "      <th>PassengerId</th>\n",
       "      <th>Survived</th>\n",
       "      <th>Pclass</th>\n",
       "      <th>Name</th>\n",
       "      <th>Sex</th>\n",
       "      <th>Age</th>\n",
       "      <th>SibSp</th>\n",
       "      <th>Parch</th>\n",
       "      <th>Ticket</th>\n",
       "      <th>Fare</th>\n",
       "      <th>Cabin</th>\n",
       "      <th>Embarked</th>\n",
       "    </tr>\n",
       "  </thead>\n",
       "  <tbody>\n",
       "    <tr>\n",
       "      <th>0</th>\n",
       "      <td>1</td>\n",
       "      <td>0</td>\n",
       "      <td>3</td>\n",
       "      <td>Braund, Mr. Owen Harris</td>\n",
       "      <td>male</td>\n",
       "      <td>22.0</td>\n",
       "      <td>1</td>\n",
       "      <td>0</td>\n",
       "      <td>A/5 21171</td>\n",
       "      <td>7.2500</td>\n",
       "      <td>NaN</td>\n",
       "      <td>S</td>\n",
       "    </tr>\n",
       "    <tr>\n",
       "      <th>1</th>\n",
       "      <td>2</td>\n",
       "      <td>1</td>\n",
       "      <td>1</td>\n",
       "      <td>Cumings, Mrs. John Bradley (Florence Briggs Th...</td>\n",
       "      <td>female</td>\n",
       "      <td>38.0</td>\n",
       "      <td>1</td>\n",
       "      <td>0</td>\n",
       "      <td>PC 17599</td>\n",
       "      <td>71.2833</td>\n",
       "      <td>C85</td>\n",
       "      <td>C</td>\n",
       "    </tr>\n",
       "    <tr>\n",
       "      <th>2</th>\n",
       "      <td>3</td>\n",
       "      <td>1</td>\n",
       "      <td>3</td>\n",
       "      <td>Heikkinen, Miss. Laina</td>\n",
       "      <td>female</td>\n",
       "      <td>26.0</td>\n",
       "      <td>0</td>\n",
       "      <td>0</td>\n",
       "      <td>STON/O2. 3101282</td>\n",
       "      <td>7.9250</td>\n",
       "      <td>NaN</td>\n",
       "      <td>S</td>\n",
       "    </tr>\n",
       "    <tr>\n",
       "      <th>3</th>\n",
       "      <td>4</td>\n",
       "      <td>1</td>\n",
       "      <td>1</td>\n",
       "      <td>Futrelle, Mrs. Jacques Heath (Lily May Peel)</td>\n",
       "      <td>female</td>\n",
       "      <td>35.0</td>\n",
       "      <td>1</td>\n",
       "      <td>0</td>\n",
       "      <td>113803</td>\n",
       "      <td>53.1000</td>\n",
       "      <td>C123</td>\n",
       "      <td>S</td>\n",
       "    </tr>\n",
       "    <tr>\n",
       "      <th>4</th>\n",
       "      <td>5</td>\n",
       "      <td>0</td>\n",
       "      <td>3</td>\n",
       "      <td>Allen, Mr. William Henry</td>\n",
       "      <td>male</td>\n",
       "      <td>35.0</td>\n",
       "      <td>0</td>\n",
       "      <td>0</td>\n",
       "      <td>373450</td>\n",
       "      <td>8.0500</td>\n",
       "      <td>NaN</td>\n",
       "      <td>S</td>\n",
       "    </tr>\n",
       "  </tbody>\n",
       "</table>\n",
       "</div>"
      ],
      "text/plain": [
       "   PassengerId  Survived  Pclass  \\\n",
       "0            1         0       3   \n",
       "1            2         1       1   \n",
       "2            3         1       3   \n",
       "3            4         1       1   \n",
       "4            5         0       3   \n",
       "\n",
       "                                                Name     Sex   Age  SibSp  \\\n",
       "0                            Braund, Mr. Owen Harris    male  22.0      1   \n",
       "1  Cumings, Mrs. John Bradley (Florence Briggs Th...  female  38.0      1   \n",
       "2                             Heikkinen, Miss. Laina  female  26.0      0   \n",
       "3       Futrelle, Mrs. Jacques Heath (Lily May Peel)  female  35.0      1   \n",
       "4                           Allen, Mr. William Henry    male  35.0      0   \n",
       "\n",
       "   Parch            Ticket     Fare Cabin Embarked  \n",
       "0      0         A/5 21171   7.2500   NaN        S  \n",
       "1      0          PC 17599  71.2833   C85        C  \n",
       "2      0  STON/O2. 3101282   7.9250   NaN        S  \n",
       "3      0            113803  53.1000  C123        S  \n",
       "4      0            373450   8.0500   NaN        S  "
      ]
     },
     "execution_count": 2,
     "metadata": {},
     "output_type": "execute_result"
    }
   ],
   "source": [
    "import pandas as pd\n",
    "import numpy as np\n",
    "# Load the train dataset\n",
    "train = pd.read_csv(\"C:/Users/Lakshay/Downloads/train.csv\")\n",
    "#1. Check first few rows\n",
    "train.head()  # Shows first 5 rows"
   ]
  },
  {
   "cell_type": "code",
   "execution_count": 3,
   "id": "171f5e9e",
   "metadata": {},
   "outputs": [
    {
     "name": "stdout",
     "output_type": "stream",
     "text": [
      "Train Shape: (891, 12)\n"
     ]
    }
   ],
   "source": [
    "#2. Check number of rows and columns\n",
    "print(\"Train Shape:\",train.shape)"
   ]
  },
  {
   "cell_type": "code",
   "execution_count": 4,
   "id": "0fce6fc9",
   "metadata": {},
   "outputs": [
    {
     "name": "stdout",
     "output_type": "stream",
     "text": [
      "<class 'pandas.core.frame.DataFrame'>\n",
      "RangeIndex: 891 entries, 0 to 890\n",
      "Data columns (total 12 columns):\n",
      " #   Column       Non-Null Count  Dtype  \n",
      "---  ------       --------------  -----  \n",
      " 0   PassengerId  891 non-null    int64  \n",
      " 1   Survived     891 non-null    int64  \n",
      " 2   Pclass       891 non-null    int64  \n",
      " 3   Name         891 non-null    object \n",
      " 4   Sex          891 non-null    object \n",
      " 5   Age          714 non-null    float64\n",
      " 6   SibSp        891 non-null    int64  \n",
      " 7   Parch        891 non-null    int64  \n",
      " 8   Ticket       891 non-null    object \n",
      " 9   Fare         891 non-null    float64\n",
      " 10  Cabin        204 non-null    object \n",
      " 11  Embarked     889 non-null    object \n",
      "dtypes: float64(2), int64(5), object(5)\n",
      "memory usage: 83.7+ KB\n",
      "None\n"
     ]
    }
   ],
   "source": [
    "#3. Check column names and data types\n",
    "\n",
    "print(train.info())"
   ]
  },
  {
   "cell_type": "code",
   "execution_count": 5,
   "id": "95f5345d",
   "metadata": {},
   "outputs": [
    {
     "name": "stdout",
     "output_type": "stream",
     "text": [
      "PassengerId      0\n",
      "Survived         0\n",
      "Pclass           0\n",
      "Name             0\n",
      "Sex              0\n",
      "Age            177\n",
      "SibSp            0\n",
      "Parch            0\n",
      "Ticket           0\n",
      "Fare             0\n",
      "Cabin          687\n",
      "Embarked         2\n",
      "dtype: int64\n"
     ]
    }
   ],
   "source": [
    "#4. Check for missing values\n",
    "\n",
    "print(train.isnull().sum())"
   ]
  },
  {
   "cell_type": "code",
   "execution_count": 6,
   "id": "ffd30641",
   "metadata": {},
   "outputs": [
    {
     "name": "stdout",
     "output_type": "stream",
     "text": [
      "       PassengerId    Survived      Pclass         Age       SibSp  \\\n",
      "count   891.000000  891.000000  891.000000  714.000000  891.000000   \n",
      "mean    446.000000    0.383838    2.308642   29.699118    0.523008   \n",
      "std     257.353842    0.486592    0.836071   14.526497    1.102743   \n",
      "min       1.000000    0.000000    1.000000    0.420000    0.000000   \n",
      "25%     223.500000    0.000000    2.000000   20.125000    0.000000   \n",
      "50%     446.000000    0.000000    3.000000   28.000000    0.000000   \n",
      "75%     668.500000    1.000000    3.000000   38.000000    1.000000   \n",
      "max     891.000000    1.000000    3.000000   80.000000    8.000000   \n",
      "\n",
      "            Parch        Fare  \n",
      "count  891.000000  891.000000  \n",
      "mean     0.381594   32.204208  \n",
      "std      0.806057   49.693429  \n",
      "min      0.000000    0.000000  \n",
      "25%      0.000000    7.910400  \n",
      "50%      0.000000   14.454200  \n",
      "75%      0.000000   31.000000  \n",
      "max      6.000000  512.329200  \n"
     ]
    }
   ],
   "source": [
    "# 5. Basic statistics for numerical columns\n",
    "print(train.describe())\n"
   ]
  },
  {
   "cell_type": "code",
   "execution_count": 7,
   "id": "3ffd5c61",
   "metadata": {},
   "outputs": [
    {
     "name": "stdout",
     "output_type": "stream",
     "text": [
      "Sex\n",
      "male      577\n",
      "female    314\n",
      "Name: count, dtype: int64\n",
      "Embarked\n",
      "S    644\n",
      "C    168\n",
      "Q     77\n",
      "Name: count, dtype: int64\n"
     ]
    }
   ],
   "source": [
    "#6. Check unique values in categorical columns\n",
    "\n",
    "print(train['Sex'].value_counts())\n",
    "print(train['Embarked'].value_counts())"
   ]
  },
  {
   "cell_type": "markdown",
   "id": "924b9954",
   "metadata": {},
   "source": [
    "Analyze Features (Data Analysis) using Pandas"
   ]
  },
  {
   "cell_type": "code",
   "execution_count": 8,
   "id": "39b4baf4",
   "metadata": {},
   "outputs": [
    {
     "name": "stdout",
     "output_type": "stream",
     "text": [
      "Survived\n",
      "0    549\n",
      "1    342\n",
      "Name: count, dtype: int64\n",
      "Survived\n",
      "0    61.616162\n",
      "1    38.383838\n",
      "Name: proportion, dtype: float64\n"
     ]
    }
   ],
   "source": [
    "#Check survival rate overall\n",
    "\n",
    "# How many people survived vs died\n",
    "print(train['Survived'].value_counts())\n",
    "\n",
    "# Percentage\n",
    "print(train['Survived'].value_counts(normalize=True) * 100)\n"
   ]
  },
  {
   "cell_type": "code",
   "execution_count": 9,
   "id": "6c65a148",
   "metadata": {},
   "outputs": [
    {
     "name": "stdout",
     "output_type": "stream",
     "text": [
      "Sex     Survived\n",
      "female  1           233\n",
      "        0            81\n",
      "male    0           468\n",
      "        1           109\n",
      "Name: count, dtype: int64\n",
      "Sex\n",
      "female    0.742038\n",
      "male      0.188908\n",
      "Name: Survived, dtype: float64\n"
     ]
    }
   ],
   "source": [
    "#Analyze survival by gender\n",
    "\n",
    "# Count of survival by Sex\n",
    "print(train.groupby('Sex')['Survived'].value_counts())\n",
    "\n",
    "# Survival rate by Sex\n",
    "print(train.groupby('Sex')['Survived'].mean())\n"
   ]
  },
  {
   "cell_type": "code",
   "execution_count": 10,
   "id": "52f48c99",
   "metadata": {},
   "outputs": [
    {
     "name": "stdout",
     "output_type": "stream",
     "text": [
      "Pclass  Survived\n",
      "1       1           136\n",
      "        0            80\n",
      "2       0            97\n",
      "        1            87\n",
      "3       0           372\n",
      "        1           119\n",
      "Name: count, dtype: int64\n",
      "Pclass\n",
      "1    0.629630\n",
      "2    0.472826\n",
      "3    0.242363\n",
      "Name: Survived, dtype: float64\n"
     ]
    }
   ],
   "source": [
    "#Analyze survival by passenger class (Pclass)\n",
    "\n",
    "# Count of survival by Pclass\n",
    "print(train.groupby('Pclass')['Survived'].value_counts())\n",
    "\n",
    "# Survival rate by Pclass\n",
    "print(train.groupby('Pclass')['Survived'].mean())\n"
   ]
  },
  {
   "cell_type": "code",
   "execution_count": 11,
   "id": "f505d408",
   "metadata": {},
   "outputs": [
    {
     "name": "stdout",
     "output_type": "stream",
     "text": [
      "Survived\n",
      "0    30.626179\n",
      "1    28.343690\n",
      "Name: Age, dtype: float64\n"
     ]
    }
   ],
   "source": [
    "#Analyze survival by Age\n",
    "\n",
    "print(train.groupby('Survived')['Age'].mean())\n"
   ]
  },
  {
   "cell_type": "code",
   "execution_count": 12,
   "id": "74df7888",
   "metadata": {},
   "outputs": [
    {
     "name": "stdout",
     "output_type": "stream",
     "text": [
      "Embarked  Survived\n",
      "C         1            93\n",
      "          0            75\n",
      "Q         0            47\n",
      "          1            30\n",
      "S         0           427\n",
      "          1           217\n",
      "Name: count, dtype: int64\n",
      "Embarked\n",
      "C    0.553571\n",
      "Q    0.389610\n",
      "S    0.336957\n",
      "Name: Survived, dtype: float64\n"
     ]
    }
   ],
   "source": [
    "#Analyze survival by Embarked\n",
    "\n",
    "# Count of survival by Embarked\n",
    "print(train.groupby('Embarked')['Survived'].value_counts())\n",
    "\n",
    "# Survival rate by Embarked\n",
    "print(train.groupby('Embarked')['Survived'].mean())\n"
   ]
  },
  {
   "cell_type": "code",
   "execution_count": 13,
   "id": "d34fd8e9",
   "metadata": {},
   "outputs": [
    {
     "name": "stdout",
     "output_type": "stream",
     "text": [
      "Survived    1.000000\n",
      "Pclass     -0.338481\n",
      "Age        -0.077221\n",
      "SibSp      -0.035322\n",
      "Parch       0.081629\n",
      "Fare        0.257307\n",
      "Sex_num     0.543351\n",
      "Name: Survived, dtype: float64\n"
     ]
    }
   ],
   "source": [
    "# Check correlation of numerical features with Survived\n",
    "\n",
    "# Convert 'Sex' to numeric: male=0, female=1\n",
    "train['Sex_num'] = train['Sex'].map({'male': 0, 'female': 1})\n",
    "\n",
    "# Now check correlation\n",
    "print(train[['Survived', 'Pclass', 'Age', 'SibSp', 'Parch', 'Fare', 'Sex_num']].corr()['Survived'])\n",
    "\n",
    "\n"
   ]
  },
  {
   "cell_type": "markdown",
   "id": "ec75233d",
   "metadata": {},
   "source": [
    "Handle Missing Data and Clean Dataset"
   ]
  },
  {
   "cell_type": "code",
   "execution_count": 14,
   "id": "7fbdb04a",
   "metadata": {},
   "outputs": [
    {
     "name": "stdout",
     "output_type": "stream",
     "text": [
      "PassengerId      0\n",
      "Survived         0\n",
      "Pclass           0\n",
      "Name             0\n",
      "Sex              0\n",
      "Age            177\n",
      "SibSp            0\n",
      "Parch            0\n",
      "Ticket           0\n",
      "Fare             0\n",
      "Cabin          687\n",
      "Embarked         2\n",
      "Sex_num          0\n",
      "dtype: int64\n"
     ]
    }
   ],
   "source": [
    "#Check missing values again\n",
    "\n",
    "print(train.isnull().sum())"
   ]
  },
  {
   "cell_type": "markdown",
   "id": "7eca69d7",
   "metadata": {},
   "source": [
    "Feature Analysis and Insights (Using Pandas)"
   ]
  },
  {
   "cell_type": "code",
   "execution_count": 15,
   "id": "0af98928",
   "metadata": {},
   "outputs": [
    {
     "name": "stderr",
     "output_type": "stream",
     "text": [
      "C:\\Users\\Lakshay\\AppData\\Local\\Temp\\ipykernel_28628\\3873732822.py:2: FutureWarning: A value is trying to be set on a copy of a DataFrame or Series through chained assignment using an inplace method.\n",
      "The behavior will change in pandas 3.0. This inplace method will never work because the intermediate object on which we are setting values always behaves as a copy.\n",
      "\n",
      "For example, when doing 'df[col].method(value, inplace=True)', try using 'df.method({col: value}, inplace=True)' or df[col] = df[col].method(value) instead, to perform the operation inplace on the original object.\n",
      "\n",
      "\n",
      "  train['Age'].fillna(train['Age'].median(), inplace=True)\n"
     ]
    }
   ],
   "source": [
    "#Handle missing Age\n",
    "train['Age'].fillna(train['Age'].median(), inplace=True)\n"
   ]
  },
  {
   "cell_type": "code",
   "execution_count": 16,
   "id": "9363f346",
   "metadata": {},
   "outputs": [
    {
     "name": "stderr",
     "output_type": "stream",
     "text": [
      "C:\\Users\\Lakshay\\AppData\\Local\\Temp\\ipykernel_28628\\332063504.py:2: FutureWarning: A value is trying to be set on a copy of a DataFrame or Series through chained assignment using an inplace method.\n",
      "The behavior will change in pandas 3.0. This inplace method will never work because the intermediate object on which we are setting values always behaves as a copy.\n",
      "\n",
      "For example, when doing 'df[col].method(value, inplace=True)', try using 'df.method({col: value}, inplace=True)' or df[col] = df[col].method(value) instead, to perform the operation inplace on the original object.\n",
      "\n",
      "\n",
      "  train['Embarked'].fillna(train['Embarked'].mode()[0], inplace=True)\n"
     ]
    }
   ],
   "source": [
    "# Handle missing Embarked\n",
    "train['Embarked'].fillna(train['Embarked'].mode()[0], inplace=True)\n"
   ]
  },
  {
   "cell_type": "code",
   "execution_count": 17,
   "id": "24798f25",
   "metadata": {},
   "outputs": [],
   "source": [
    "#  Handle Cabin\n",
    "#already done \n",
    "# train.drop('Cabin', axis=1, inplace=True)\n",
    "\n",
    "#Check if column exists before dropping:\n",
    "if 'Cabin' in train.columns:\n",
    "    train.drop('Cabin', axis=1, inplace=True)\n",
    "\n"
   ]
  },
  {
   "cell_type": "code",
   "execution_count": 18,
   "id": "e0a5735e",
   "metadata": {},
   "outputs": [],
   "source": [
    "#  Convert categorical features to numeric\n",
    "\n",
    "# Convert 'Sex' to numeric: male=0, female=1\n",
    "train['Sex_num'] = train['Sex'].map({'male': 0, 'female': 1})\n",
    "\n",
    "# Convert 'Embarked' to numeric: C=0, Q=1, S=2\n",
    "train['Embarked_num'] = train['Embarked'].map({'C': 0, 'Q': 1, 'S': 2})\n"
   ]
  },
  {
   "cell_type": "code",
   "execution_count": 19,
   "id": "e77473c9",
   "metadata": {},
   "outputs": [],
   "source": [
    "train.drop(['Name', 'Sex', 'Ticket', 'Embarked'], axis=1, inplace=True)\n"
   ]
  },
  {
   "cell_type": "code",
   "execution_count": 20,
   "id": "0b499cf0",
   "metadata": {},
   "outputs": [
    {
     "name": "stdout",
     "output_type": "stream",
     "text": [
      "   PassengerId  Survived  Pclass   Age  SibSp  Parch     Fare  Sex_num  \\\n",
      "0            1         0       3  22.0      1      0   7.2500        0   \n",
      "1            2         1       1  38.0      1      0  71.2833        1   \n",
      "2            3         1       3  26.0      0      0   7.9250        1   \n",
      "3            4         1       1  35.0      1      0  53.1000        1   \n",
      "4            5         0       3  35.0      0      0   8.0500        0   \n",
      "\n",
      "   Embarked_num  \n",
      "0             2  \n",
      "1             0  \n",
      "2             2  \n",
      "3             2  \n",
      "4             2  \n",
      "PassengerId     0\n",
      "Survived        0\n",
      "Pclass          0\n",
      "Age             0\n",
      "SibSp           0\n",
      "Parch           0\n",
      "Fare            0\n",
      "Sex_num         0\n",
      "Embarked_num    0\n",
      "dtype: int64\n"
     ]
    }
   ],
   "source": [
    "#checking dataset \n",
    "print(train.head())\n",
    "print(train.isnull().sum())  # Should be zero now\n"
   ]
  },
  {
   "cell_type": "code",
   "execution_count": 21,
   "id": "a047dfd1",
   "metadata": {},
   "outputs": [
    {
     "name": "stdout",
     "output_type": "stream",
     "text": [
      "Survived\n",
      "0    549\n",
      "1    342\n",
      "Name: count, dtype: int64\n",
      "Survived\n",
      "0    61.616162\n",
      "1    38.383838\n",
      "Name: proportion, dtype: float64\n"
     ]
    }
   ],
   "source": [
    "#Feature Analysis and Insights (Using Pandas)\n",
    "\n",
    "#1. Survival Rate Overall\n",
    "\n",
    "# Count of survived vs not survived\n",
    "print(train['Survived'].value_counts())\n",
    "\n",
    "# Percentage\n",
    "print(train['Survived'].value_counts(normalize=True) * 100)\n"
   ]
  },
  {
   "cell_type": "code",
   "execution_count": 22,
   "id": "efa87287",
   "metadata": {},
   "outputs": [
    {
     "name": "stdout",
     "output_type": "stream",
     "text": [
      "Sex_num  Survived\n",
      "0        0           468\n",
      "         1           109\n",
      "1        1           233\n",
      "         0            81\n",
      "Name: count, dtype: int64\n",
      "Sex_num\n",
      "0    0.188908\n",
      "1    0.742038\n",
      "Name: Survived, dtype: float64\n"
     ]
    }
   ],
   "source": [
    "#2. Survival by Gender\n",
    "\n",
    "# Count of survivors by Sex\n",
    "print(train.groupby('Sex_num')['Survived'].value_counts())\n",
    "\n",
    "# Survival rate by Sex\n",
    "print(train.groupby('Sex_num')['Survived'].mean())\n"
   ]
  },
  {
   "cell_type": "code",
   "execution_count": 23,
   "id": "aef3336d",
   "metadata": {},
   "outputs": [
    {
     "name": "stdout",
     "output_type": "stream",
     "text": [
      "Pclass  Survived\n",
      "1       1           136\n",
      "        0            80\n",
      "2       0            97\n",
      "        1            87\n",
      "3       0           372\n",
      "        1           119\n",
      "Name: count, dtype: int64\n",
      "Pclass\n",
      "1    0.629630\n",
      "2    0.472826\n",
      "3    0.242363\n",
      "Name: Survived, dtype: float64\n"
     ]
    }
   ],
   "source": [
    "#3. Survival by Passenger Class (Pclass)\n",
    "\n",
    "# Count of survivors by Pclass\n",
    "print(train.groupby('Pclass')['Survived'].value_counts())\n",
    "\n",
    "# Survival rate by Pclass\n",
    "print(train.groupby('Pclass')['Survived'].mean())\n"
   ]
  },
  {
   "cell_type": "code",
   "execution_count": 24,
   "id": "18e3c8af",
   "metadata": {},
   "outputs": [
    {
     "name": "stdout",
     "output_type": "stream",
     "text": [
      "Age_group\n",
      "Child          0.579710\n",
      "Teen           0.381818\n",
      "Adult          0.364769\n",
      "Middle-aged    0.390625\n",
      "Senior         0.227273\n",
      "Name: Survived, dtype: float64\n"
     ]
    },
    {
     "name": "stderr",
     "output_type": "stream",
     "text": [
      "C:\\Users\\Lakshay\\AppData\\Local\\Temp\\ipykernel_28628\\4041851942.py:9: FutureWarning: The default of observed=False is deprecated and will be changed to True in a future version of pandas. Pass observed=False to retain current behavior or observed=True to adopt the future default and silence this warning.\n",
      "  print(train.groupby('Age_group')['Survived'].mean())\n"
     ]
    }
   ],
   "source": [
    "#4. Survival by Age Groups\n",
    "\n",
    "# Create age groups\n",
    "bins = [0, 12, 20, 40, 60, 80]\n",
    "labels = ['Child', 'Teen', 'Adult', 'Middle-aged', 'Senior']\n",
    "train['Age_group'] = pd.cut(train['Age'], bins=bins, labels=labels)\n",
    "\n",
    "# Survival rate by Age group\n",
    "print(train.groupby('Age_group')['Survived'].mean())\n"
   ]
  },
  {
   "cell_type": "code",
   "execution_count": 25,
   "id": "48abefe9",
   "metadata": {},
   "outputs": [
    {
     "name": "stdout",
     "output_type": "stream",
     "text": [
      "Fare_group\n",
      "Low          0.324022\n",
      "Medium       0.654206\n",
      "High         0.757576\n",
      "Very High    0.700000\n",
      "Name: Survived, dtype: float64\n"
     ]
    },
    {
     "name": "stderr",
     "output_type": "stream",
     "text": [
      "C:\\Users\\Lakshay\\AppData\\Local\\Temp\\ipykernel_28628\\3304786837.py:9: FutureWarning: The default of observed=False is deprecated and will be changed to True in a future version of pandas. Pass observed=False to retain current behavior or observed=True to adopt the future default and silence this warning.\n",
      "  print(train.groupby('Fare_group')['Survived'].mean())\n"
     ]
    }
   ],
   "source": [
    "#5. Survival by Fare\n",
    "\n",
    "# Create fare bins\n",
    "bins = [0, 50, 100, 200, 600]\n",
    "labels = ['Low', 'Medium', 'High', 'Very High']\n",
    "train['Fare_group'] = pd.cut(train['Fare'], bins=bins, labels=labels)\n",
    "\n",
    "# Survival rate by Fare group\n",
    "print(train.groupby('Fare_group')['Survived'].mean())\n"
   ]
  },
  {
   "cell_type": "code",
   "execution_count": 26,
   "id": "47802212",
   "metadata": {},
   "outputs": [
    {
     "name": "stdout",
     "output_type": "stream",
     "text": [
      "Family_size\n",
      "1     0.303538\n",
      "2     0.552795\n",
      "3     0.578431\n",
      "4     0.724138\n",
      "5     0.200000\n",
      "6     0.136364\n",
      "7     0.333333\n",
      "8     0.000000\n",
      "11    0.000000\n",
      "Name: Survived, dtype: float64\n"
     ]
    }
   ],
   "source": [
    "#6. Family Influence (SibSp + Parch)\n",
    "\n",
    "# Create a new column for family size\n",
    "train['Family_size'] = train['SibSp'] + train['Parch'] + 1\n",
    "\n",
    "# Survival rate by family size\n",
    "print(train.groupby('Family_size')['Survived'].mean())\n"
   ]
  },
  {
   "cell_type": "code",
   "execution_count": 27,
   "id": "9e5bd033",
   "metadata": {},
   "outputs": [
    {
     "name": "stdout",
     "output_type": "stream",
     "text": [
      "Survived    1.000000\n",
      "Pclass     -0.338481\n",
      "Age        -0.064910\n",
      "SibSp      -0.035322\n",
      "Parch       0.081629\n",
      "Fare        0.257307\n",
      "Sex_num     0.543351\n",
      "Name: Survived, dtype: float64\n"
     ]
    }
   ],
   "source": [
    "#7. Correlation Check (Numeric Features)\n",
    "\n",
    "print(train[['Survived', 'Pclass', 'Age', 'SibSp', 'Parch', 'Fare', 'Sex_num']].corr()['Survived'])\n"
   ]
  },
  {
   "cell_type": "markdown",
   "id": "7b0176bd",
   "metadata": {},
   "source": [
    "Visualizing Data"
   ]
  },
  {
   "cell_type": "code",
   "execution_count": 28,
   "id": "61577161",
   "metadata": {},
   "outputs": [
    {
     "data": {
      "image/png": "[encoded data removed]",
      "text/plain": [
       "<Figure size 500x500 with 1 Axes>"
      ]
     },
     "metadata": {},
     "output_type": "display_data"
    }
   ],
   "source": [
    "import matplotlib.pyplot as plt\n",
    "\n",
    "# Overall Survival Count\n",
    "plt.figure(figsize=(5,5))\n",
    "\n",
    "train['Survived'].value_counts().plot(kind='bar', color=['red', 'green'])\n",
    "plt.title('Survival Count')\n",
    "plt.xlabel('Survived')\n",
    "plt.ylabel('Number of Passengers')\n",
    "plt.show()\n"
   ]
  },
  {
   "cell_type": "code",
   "execution_count": 29,
   "id": "2fe303ea",
   "metadata": {},
   "outputs": [
    {
     "data": {
      "image/png": "[encoded data removed]",
      "text/plain": [
       "<Figure size 500x500 with 1 Axes>"
      ]
     },
     "metadata": {},
     "output_type": "display_data"
    },
    {
     "data": {
      "image/png": "[encoded data removed]",
      "text/plain": [
       "<Figure size 500x500 with 1 Axes>"
      ]
     },
     "metadata": {},
     "output_type": "display_data"
    }
   ],
   "source": [
    "# Survival by Gender\n",
    "plt.figure(figsize=(5,5))\n",
    "\n",
    "train.groupby('Sex_num')['Survived'].mean().plot(kind='bar', color=['blue', 'pink'])\n",
    "plt.title('Survival Rate by Gender')\n",
    "plt.xlabel('Sex (0=Male, 1=Female)')\n",
    "plt.ylabel('Survival Rate')\n",
    "plt.show()\n",
    "\n",
    "# Survival by Passenger Class\n",
    "plt.figure(figsize=(5,5))\n",
    "\n",
    "train.groupby('Pclass')['Survived'].mean().plot(kind='bar', color=['gold', 'silver', 'brown'])\n",
    "plt.title('Survival Rate by Passenger Class')\n",
    "plt.xlabel('Pclass')\n",
    "plt.ylabel('Survival Rate')\n",
    "plt.show()\n"
   ]
  },
  {
   "cell_type": "code",
   "execution_count": 30,
   "id": "555bbd47",
   "metadata": {},
   "outputs": [
    {
     "name": "stderr",
     "output_type": "stream",
     "text": [
      "C:\\Users\\Lakshay\\AppData\\Local\\Temp\\ipykernel_28628\\3184071446.py:4: FutureWarning: The default of observed=False is deprecated and will be changed to True in a future version of pandas. Pass observed=False to retain current behavior or observed=True to adopt the future default and silence this warning.\n",
      "  train.groupby('Age_group')['Survived'].mean().plot(kind='bar', color='purple')\n"
     ]
    },
    {
     "data": {
      "image/png": "[encoded data removed]",
      "text/plain": [
       "<Figure size 500x500 with 1 Axes>"
      ]
     },
     "metadata": {},
     "output_type": "display_data"
    },
    {
     "name": "stderr",
     "output_type": "stream",
     "text": [
      "C:\\Users\\Lakshay\\AppData\\Local\\Temp\\ipykernel_28628\\3184071446.py:13: FutureWarning: The default of observed=False is deprecated and will be changed to True in a future version of pandas. Pass observed=False to retain current behavior or observed=True to adopt the future default and silence this warning.\n",
      "  train.groupby('Fare_group')['Survived'].mean().plot(kind='bar', color='orange')\n"
     ]
    },
    {
     "data": {
      "image/png": "[encoded data removed]",
      "text/plain": [
       "<Figure size 500x500 with 1 Axes>"
      ]
     },
     "metadata": {},
     "output_type": "display_data"
    }
   ],
   "source": [
    "# Survival by Age Group\n",
    "plt.figure(figsize=(5,5))\n",
    "\n",
    "train.groupby('Age_group')['Survived'].mean().plot(kind='bar', color='purple')\n",
    "plt.title('Survival Rate by Age Group')\n",
    "plt.xlabel('Age Group')\n",
    "plt.ylabel('Survival Rate')\n",
    "plt.show()\n",
    "\n",
    "# Survival by Fare Group\n",
    "plt.figure(figsize=(5,5))\n",
    "\n",
    "train.groupby('Fare_group')['Survived'].mean().plot(kind='bar', color='orange')\n",
    "plt.title('Survival Rate by Fare Group')\n",
    "plt.xlabel('Fare Group')\n",
    "plt.ylabel('Survival Rate')\n",
    "plt.show()\n"
   ]
  },
  {
   "cell_type": "code",
   "execution_count": 31,
   "id": "867109f4",
   "metadata": {},
   "outputs": [
    {
     "data": {
      "image/png": "[encoded data removed]",
      "text/plain": [
       "<Figure size 500x500 with 1 Axes>"
      ]
     },
     "metadata": {},
     "output_type": "display_data"
    }
   ],
   "source": [
    "#7. Family Size vs Survival\n",
    "plt.figure(figsize=(5,5))\n",
    "\n",
    "train.groupby('Family_size')['Survived'].mean().plot(kind='bar', color='teal')\n",
    "plt.title('Survival Rate by Family Size')\n",
    "plt.xlabel('Family Size')\n",
    "plt.ylabel('Survival Rate')\n",
    "plt.show()\n"
   ]
  },
  {
   "cell_type": "markdown",
   "id": "a2c12232",
   "metadata": {},
   "source": [
    "# Titanic EDA Summary\n",
    "\n",
    "## Overall Survival\n",
    "- Total passengers survived: ~38%\n",
    "- Total passengers did not survive: ~62%\n",
    "\n",
    "## Survival by Gender\n",
    "- Females had much higher survival rates than males.\n",
    "- Correlation (Sex_num) is ~0.54 → strongest predictor.\n",
    "\n",
    "## Survival by Passenger Class\n",
    "- 1st class had the highest survival rate.\n",
    "- 3rd class had the lowest survival rate.\n",
    "- Correlation (Pclass) is negative (~-0.34).\n",
    "\n",
    "## Survival by Age\n",
    "- Children and young adults survived more than seniors.\n",
    "- Age has a slight negative correlation with survival (~-0.08).\n",
    "\n",
    "## Survival by Fare\n",
    "- Higher fare passengers (usually in 1st class) had higher survival (~0.26 correlation).\n",
    "\n",
    "## Family Size Influence\n",
    "- Small families (2–4 people) had better survival.\n",
    "- Very large families or solo passengers had lower survival.\n",
    "\n",
    "## Important Features\n",
    "- Sex_num, Pclass, Fare → most predictive of survival.\n",
    "- Age, SibSp, Parch → weaker effect but still useful.\n"
   ]
  },
  {
   "cell_type": "markdown",
   "id": "2160254e",
   "metadata": {},
   "source": []
  }
 ],
 "metadata": {
  "kernelspec": {
   "display_name": "Python 3",
   "language": "python",
   "name": "python3"
  },
  "language_info": {
   "codemirror_mode": {
    "name": "ipython",
    "version": 3
   },
   "file_extension": ".py",
   "mimetype": "text/x-python",
   "name": "python",
   "nbconvert_exporter": "python",
   "pygments_lexer": "ipython3",
   "version": "3.13.0"
  }
 },
 "nbformat": 4,
 "nbformat_minor": 5
}
